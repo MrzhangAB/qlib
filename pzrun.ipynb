{
 "cells": [
  {
   "cell_type": "code",
   "execution_count": 1,
   "metadata": {},
   "outputs": [],
   "source": [
    "import ruamel.yaml as yaml\n",
    "import qlib"
   ]
  },
  {
   "cell_type": "code",
   "execution_count": 2,
   "metadata": {},
   "outputs": [],
   "source": [
    "config_paths_file = \"pztest/exps/baselines1_dates1/config_paths.yaml\""
   ]
  },
  {
   "cell_type": "code",
   "execution_count": 3,
   "metadata": {},
   "outputs": [],
   "source": [
    "with open(config_paths_file) as f:\n",
    "        config_paths = yaml.safe_load(f)"
   ]
  },
  {
   "cell_type": "code",
   "execution_count": 4,
   "metadata": {},
   "outputs": [],
   "source": [
    "from qlib.workflow.cli import workflow"
   ]
  },
  {
   "cell_type": "markdown",
   "metadata": {},
   "source": [
    "examples/benchmarks/XGBoost/workflow_config_xgboost_Alpha158.yaml\n",
    "examples/benchmarks/Linear/workflow_config_linear_Alpha158.yaml\n",
    "examples/benchmarks/LightGBM/workflow_config_lightgbm_Alpha158.yaml\n",
    "examples/benchmarks/LSTM/workflow_config_lstm_Alpha158_job8.yaml\n",
    "examples/benchmarks/ALSTM/workflow_config_alstm_Alpha158.yaml\n",
    "examples/benchmarks/Transformer/workflow_config_transformer_Alpha158_job1.yaml\n",
    "\n",
    "examples/benchmarks/TRA/workflow_config_tra_Alpha158.yaml"
   ]
  },
  {
   "cell_type": "code",
   "execution_count": 10,
   "metadata": {},
   "outputs": [
    {
     "name": "stderr",
     "output_type": "stream",
     "text": [
      "[17540:MainThread](2022-01-02 17:34:15,028) INFO - qlib.Initialization - [config.py:384] - default_conf: client.\n",
      "[17540:MainThread](2022-01-02 17:34:15,032) INFO - qlib.Initialization - [__init__.py:56] - qlib successfully initialized based on client settings.\n",
      "[17540:MainThread](2022-01-02 17:34:15,033) INFO - qlib.Initialization - [__init__.py:58] - data_path={'__DEFAULT_FREQ': WindowsPath('C:/Users/chen/.qlib/qlib_data/cn_data')}\n",
      "[17540:MainThread](2022-01-02 17:34:15,034) INFO - qlib.workflow - [expm.py:282] - No tracking URI is provided. Use the default tracking URI.\n",
      "[17540:MainThread](2022-01-02 17:34:15,035) INFO - qlib.workflow - [expm.py:318] - <mlflow.tracking.client.MlflowClient object at 0x0000022C12D1D7C0>\n",
      "[17540:MainThread](2022-01-02 17:34:15,047) INFO - qlib.workflow - [exp.py:249] - Experiment 2 starts running ...\n",
      "[17540:MainThread](2022-01-02 17:34:15,070) INFO - qlib.workflow - [recorder.py:290] - Recorder fd8c5b8fc2e544bb8842d3b151ed41b4 starts running under Experiment 2 ...\n",
      "[17540:MainThread](2022-01-02 17:34:15,106) INFO - qlib.ADARNN - [pytorch_adarnn.py:65] - ADARNN pytorch version...\n",
      "[17540:MainThread](2022-01-02 17:34:15,108) INFO - qlib.ADARNN - [pytorch_adarnn.py:89] - ADARNN parameters setting:\n",
      "d_feat : 6\n",
      "hidden_size : 64\n",
      "num_layers : 2\n",
      "dropout : 0.0\n",
      "n_epochs : 200\n",
      "lr : 0.001\n",
      "metric : loss\n",
      "batch_size : 800\n",
      "early_stop : 20\n",
      "optimizer : adam\n",
      "loss_type : mse\n",
      "visible_GPU : 0\n",
      "use_GPU : True\n",
      "seed : None\n",
      "[17540:MainThread](2022-01-02 17:34:15,121) INFO - qlib.ADARNN - [pytorch_adarnn.py:138] - model:\n",
      "AdaRNN(\n",
      "  (features): Sequential(\n",
      "    (0): GRU(6, 64, batch_first=True)\n",
      "    (1): GRU(64, 64, batch_first=True)\n",
      "  )\n",
      "  (fc_out): Linear(in_features=64, out_features=1, bias=True)\n",
      "  (gate): ModuleList(\n",
      "    (0): Linear(in_features=7680, out_features=60, bias=True)\n",
      "    (1): Linear(in_features=7680, out_features=60, bias=True)\n",
      "  )\n",
      "  (bn_lst): ModuleList(\n",
      "    (0): BatchNorm1d(60, eps=1e-05, momentum=0.1, affine=True, track_running_stats=True)\n",
      "    (1): BatchNorm1d(60, eps=1e-05, momentum=0.1, affine=True, track_running_stats=True)\n",
      "  )\n",
      "  (softmax): Softmax(dim=0)\n",
      ")\n",
      "[17540:MainThread](2022-01-02 17:34:15,122) INFO - qlib.ADARNN - [pytorch_adarnn.py:139] - model size: 0.9163 MB\n",
      "[17540:MainThread](2022-01-02 17:36:30,361) INFO - qlib.timer - [log.py:113] - Time cost: 135.221s | Loading data Done\n",
      "C:\\Users\\chen\\AppData\\Roaming\\Python\\Python38\\site-packages\\numpy\\lib\\nanfunctions.py:997: RuntimeWarning: All-NaN slice encountered\n",
      "  result = np.apply_along_axis(_nanmedian1d, axis, a, overwrite_input)\n",
      "[17540:MainThread](2022-01-02 17:36:40,722) INFO - qlib.timer - [log.py:113] - Time cost: 10.150s | RobustZScoreNorm Done\n",
      "[17540:MainThread](2022-01-02 17:36:41,279) INFO - qlib.timer - [log.py:113] - Time cost: 0.556s | Fillna Done\n",
      "[17540:MainThread](2022-01-02 17:36:41,975) INFO - qlib.timer - [log.py:113] - Time cost: 0.499s | DropnaLabel Done\n",
      "C:\\Users\\chen\\.conda\\envs\\ml-finance\\lib\\site-packages\\pandas\\core\\frame.py:3191: SettingWithCopyWarning: \n",
      "A value is trying to be set on a copy of a slice from a DataFrame.\n",
      "Try using .loc[row_indexer,col_indexer] = value instead\n",
      "\n",
      "See the caveats in the documentation: https://pandas.pydata.org/pandas-docs/stable/user_guide/indexing.html#returning-a-view-versus-a-copy\n",
      "  self[k1] = value[k2]\n",
      "[17540:MainThread](2022-01-02 17:36:42,432) INFO - qlib.timer - [log.py:113] - Time cost: 0.456s | CSRankNorm Done\n",
      "[17540:MainThread](2022-01-02 17:36:42,460) INFO - qlib.timer - [log.py:113] - Time cost: 12.096s | fit & process data Done\n",
      "[17540:MainThread](2022-01-02 17:36:42,461) INFO - qlib.timer - [log.py:113] - Time cost: 147.321s | Init data Done\n",
      "[17540:MainThread](2022-01-02 17:36:43,583) INFO - qlib.ADARNN - [pytorch_adarnn.py:270] - training...\n",
      "[17540:MainThread](2022-01-02 17:36:43,585) INFO - qlib.ADARNN - [pytorch_adarnn.py:277] - Epoch0:\n",
      "[17540:MainThread](2022-01-02 17:36:43,586) INFO - qlib.ADARNN - [pytorch_adarnn.py:278] - training...\n",
      "[17540:MainThread](2022-01-02 17:37:19,858) INFO - qlib.ADARNN - [pytorch_adarnn.py:280] - evaluating...\n",
      "[17540:MainThread](2022-01-02 17:37:23,982) INFO - qlib.ADARNN - [pytorch_adarnn.py:242] - ic/train: : 0.073154, icir/train: : 0.521296, ric/train: : 0.066799, ricir/train: : 0.478058, mse/train: : -0.008989, loss/train: : -0.008989\n",
      "[17540:MainThread](2022-01-02 17:37:23,983) INFO - qlib.ADARNN - [pytorch_adarnn.py:242] - ic/valid: : 0.070050, icir/valid: : 0.380369, ric/valid: : 0.062709, ricir/valid: : 0.335586, mse/valid: : -0.009075, loss/valid: : -0.009075\n",
      "[17540:MainThread](2022-01-02 17:37:23,988) INFO - qlib.ADARNN - [pytorch_adarnn.py:277] - Epoch1:\n",
      "[17540:MainThread](2022-01-02 17:37:23,989) INFO - qlib.ADARNN - [pytorch_adarnn.py:278] - training...\n",
      "[17540:MainThread](2022-01-02 17:38:00,289) INFO - qlib.ADARNN - [pytorch_adarnn.py:280] - evaluating...\n",
      "[17540:MainThread](2022-01-02 17:38:04,477) INFO - qlib.ADARNN - [pytorch_adarnn.py:242] - ic/train: : 0.083511, icir/train: : 0.595272, ric/train: : 0.080125, ricir/train: : 0.569065, mse/train: : 0.015881, loss/train: : 0.015881\n",
      "[17540:MainThread](2022-01-02 17:38:04,478) INFO - qlib.ADARNN - [pytorch_adarnn.py:242] - ic/valid: : 0.066057, icir/valid: : 0.374240, ric/valid: : 0.062536, ricir/valid: : 0.352447, mse/valid: : 0.019676, loss/valid: : 0.019676\n",
      "[17540:MainThread](2022-01-02 17:38:04,480) INFO - qlib.ADARNN - [pytorch_adarnn.py:277] - Epoch2:\n",
      "[17540:MainThread](2022-01-02 17:38:04,481) INFO - qlib.ADARNN - [pytorch_adarnn.py:278] - training...\n",
      "[17540:MainThread](2022-01-02 17:38:40,823) INFO - qlib.ADARNN - [pytorch_adarnn.py:280] - evaluating...\n",
      "[17540:MainThread](2022-01-02 17:38:45,072) INFO - qlib.ADARNN - [pytorch_adarnn.py:242] - ic/train: : 0.091684, icir/train: : 0.603919, ric/train: : 0.086972, ricir/train: : 0.577656, mse/train: : -0.023962, loss/train: : -0.023962\n",
      "[17540:MainThread](2022-01-02 17:38:45,073) INFO - qlib.ADARNN - [pytorch_adarnn.py:242] - ic/valid: : 0.077886, icir/valid: : 0.440752, ric/valid: : 0.071589, ricir/valid: : 0.396514, mse/valid: : -0.023763, loss/valid: : -0.023763\n",
      "[17540:MainThread](2022-01-02 17:38:45,074) INFO - qlib.ADARNN - [pytorch_adarnn.py:277] - Epoch3:\n",
      "[17540:MainThread](2022-01-02 17:38:45,075) INFO - qlib.ADARNN - [pytorch_adarnn.py:278] - training...\n",
      "[17540:MainThread](2022-01-02 17:39:21,298) INFO - qlib.ADARNN - [pytorch_adarnn.py:280] - evaluating...\n",
      "[17540:MainThread](2022-01-02 17:39:25,578) INFO - qlib.ADARNN - [pytorch_adarnn.py:242] - ic/train: : 0.098986, icir/train: : 0.716750, ric/train: : 0.093569, ricir/train: : 0.677132, mse/train: : -0.006691, loss/train: : -0.006691\n",
      "[17540:MainThread](2022-01-02 17:39:25,579) INFO - qlib.ADARNN - [pytorch_adarnn.py:242] - ic/valid: : 0.075095, icir/valid: : 0.469198, ric/valid: : 0.068872, ricir/valid: : 0.422362, mse/valid: : -0.003235, loss/valid: : -0.003235\n",
      "[17540:MainThread](2022-01-02 17:39:25,580) INFO - qlib.ADARNN - [pytorch_adarnn.py:277] - Epoch4:\n",
      "[17540:MainThread](2022-01-02 17:39:25,580) INFO - qlib.ADARNN - [pytorch_adarnn.py:278] - training...\n",
      "[17540:MainThread](2022-01-02 17:40:02,110) INFO - qlib.ADARNN - [pytorch_adarnn.py:280] - evaluating...\n",
      "[17540:MainThread](2022-01-02 17:40:06,439) INFO - qlib.ADARNN - [pytorch_adarnn.py:242] - ic/train: : 0.083786, icir/train: : 0.559357, ric/train: : 0.077752, ricir/train: : 0.522656, mse/train: : -0.001123, loss/train: : -0.001123\n",
      "[17540:MainThread](2022-01-02 17:40:06,440) INFO - qlib.ADARNN - [pytorch_adarnn.py:242] - ic/valid: : 0.072843, icir/valid: : 0.428107, ric/valid: : 0.064711, ricir/valid: : 0.372487, mse/valid: : -0.000375, loss/valid: : -0.000375\n",
      "[17540:MainThread](2022-01-02 17:40:06,441) INFO - qlib.ADARNN - [pytorch_adarnn.py:277] - Epoch5:\n",
      "[17540:MainThread](2022-01-02 17:40:06,442) INFO - qlib.ADARNN - [pytorch_adarnn.py:278] - training...\n",
      "[17540:MainThread](2022-01-02 17:40:42,863) INFO - qlib.ADARNN - [pytorch_adarnn.py:280] - evaluating...\n",
      "[17540:MainThread](2022-01-02 17:40:47,119) INFO - qlib.ADARNN - [pytorch_adarnn.py:242] - ic/train: : 0.089620, icir/train: : 0.635799, ric/train: : 0.084026, ricir/train: : 0.595599, mse/train: : -0.019258, loss/train: : -0.019258\n",
      "[17540:MainThread](2022-01-02 17:40:47,120) INFO - qlib.ADARNN - [pytorch_adarnn.py:242] - ic/valid: : 0.075646, icir/valid: : 0.456048, ric/valid: : 0.068518, ricir/valid: : 0.402040, mse/valid: : -0.018003, loss/valid: : -0.018003\n",
      "[17540:MainThread](2022-01-02 17:40:47,121) INFO - qlib.ADARNN - [pytorch_adarnn.py:277] - Epoch6:\n",
      "[17540:MainThread](2022-01-02 17:40:47,122) INFO - qlib.ADARNN - [pytorch_adarnn.py:278] - training...\n",
      "[17540:MainThread](2022-01-02 17:41:23,755) INFO - qlib.ADARNN - [pytorch_adarnn.py:280] - evaluating...\n",
      "[17540:MainThread](2022-01-02 17:41:28,018) INFO - qlib.ADARNN - [pytorch_adarnn.py:242] - ic/train: : 0.090768, icir/train: : 0.673702, ric/train: : 0.085302, ricir/train: : 0.630071, mse/train: : 0.014957, loss/train: : 0.014957\n",
      "[17540:MainThread](2022-01-02 17:41:28,019) INFO - qlib.ADARNN - [pytorch_adarnn.py:242] - ic/valid: : 0.073048, icir/valid: : 0.449946, ric/valid: : 0.066924, ricir/valid: : 0.404340, mse/valid: : 0.017377, loss/valid: : 0.017377\n",
      "[17540:MainThread](2022-01-02 17:41:28,020) INFO - qlib.ADARNN - [pytorch_adarnn.py:277] - Epoch7:\n",
      "[17540:MainThread](2022-01-02 17:41:28,021) INFO - qlib.ADARNN - [pytorch_adarnn.py:278] - training...\n",
      "[17540:MainThread](2022-01-02 17:42:04,431) INFO - qlib.ADARNN - [pytorch_adarnn.py:280] - evaluating...\n",
      "[17540:MainThread](2022-01-02 17:42:08,670) INFO - qlib.ADARNN - [pytorch_adarnn.py:242] - ic/train: : 0.094518, icir/train: : 0.691620, ric/train: : 0.088761, ricir/train: : 0.647815, mse/train: : 0.011044, loss/train: : 0.011044\n",
      "[17540:MainThread](2022-01-02 17:42:08,671) INFO - qlib.ADARNN - [pytorch_adarnn.py:242] - ic/valid: : 0.076721, icir/valid: : 0.471236, ric/valid: : 0.070324, ricir/valid: : 0.422548, mse/valid: : 0.013653, loss/valid: : 0.013653\n",
      "[17540:MainThread](2022-01-02 17:42:08,672) INFO - qlib.ADARNN - [pytorch_adarnn.py:277] - Epoch8:\n",
      "[17540:MainThread](2022-01-02 17:42:08,673) INFO - qlib.ADARNN - [pytorch_adarnn.py:278] - training...\n",
      "[17540:MainThread](2022-01-02 17:42:45,219) INFO - qlib.ADARNN - [pytorch_adarnn.py:280] - evaluating...\n",
      "[17540:MainThread](2022-01-02 17:42:49,469) INFO - qlib.ADARNN - [pytorch_adarnn.py:242] - ic/train: : 0.098354, icir/train: : 0.704139, ric/train: : 0.093034, ricir/train: : 0.666074, mse/train: : 0.017914, loss/train: : 0.017914\n",
      "[17540:MainThread](2022-01-02 17:42:49,470) INFO - qlib.ADARNN - [pytorch_adarnn.py:242] - ic/valid: : 0.081603, icir/valid: : 0.502849, ric/valid: : 0.075832, ricir/valid: : 0.460138, mse/valid: : 0.019972, loss/valid: : 0.019972\n",
      "[17540:MainThread](2022-01-02 17:42:49,472) INFO - qlib.ADARNN - [pytorch_adarnn.py:277] - Epoch9:\n",
      "[17540:MainThread](2022-01-02 17:42:49,473) INFO - qlib.ADARNN - [pytorch_adarnn.py:278] - training...\n",
      "[17540:MainThread](2022-01-02 17:43:25,694) INFO - qlib.ADARNN - [pytorch_adarnn.py:280] - evaluating...\n",
      "[17540:MainThread](2022-01-02 17:43:29,783) INFO - qlib.ADARNN - [pytorch_adarnn.py:242] - ic/train: : 0.099760, icir/train: : 0.734236, ric/train: : 0.094245, ricir/train: : 0.691623, mse/train: : 0.000911, loss/train: : 0.000911\n",
      "[17540:MainThread](2022-01-02 17:43:29,784) INFO - qlib.ADARNN - [pytorch_adarnn.py:242] - ic/valid: : 0.080608, icir/valid: : 0.505293, ric/valid: : 0.073981, ricir/valid: : 0.457594, mse/valid: : 0.003544, loss/valid: : 0.003544\n",
      "[17540:MainThread](2022-01-02 17:43:29,785) INFO - qlib.ADARNN - [pytorch_adarnn.py:277] - Epoch10:\n",
      "[17540:MainThread](2022-01-02 17:43:29,786) INFO - qlib.ADARNN - [pytorch_adarnn.py:278] - training...\n",
      "[17540:MainThread](2022-01-02 17:44:06,113) INFO - qlib.ADARNN - [pytorch_adarnn.py:280] - evaluating...\n",
      "[17540:MainThread](2022-01-02 17:44:10,249) INFO - qlib.ADARNN - [pytorch_adarnn.py:242] - ic/train: : 0.100812, icir/train: : 0.757583, ric/train: : 0.096182, ricir/train: : 0.719295, mse/train: : 0.000142, loss/train: : 0.000142\n",
      "[17540:MainThread](2022-01-02 17:44:10,250) INFO - qlib.ADARNN - [pytorch_adarnn.py:242] - ic/valid: : 0.077937, icir/valid: : 0.508467, ric/valid: : 0.072694, ricir/valid: : 0.472260, mse/valid: : 0.003539, loss/valid: : 0.003539\n",
      "[17540:MainThread](2022-01-02 17:44:10,251) INFO - qlib.ADARNN - [pytorch_adarnn.py:277] - Epoch11:\n",
      "[17540:MainThread](2022-01-02 17:44:10,252) INFO - qlib.ADARNN - [pytorch_adarnn.py:278] - training...\n",
      "[17540:MainThread](2022-01-02 17:44:46,423) INFO - qlib.ADARNN - [pytorch_adarnn.py:280] - evaluating...\n",
      "[17540:MainThread](2022-01-02 17:44:50,547) INFO - qlib.ADARNN - [pytorch_adarnn.py:242] - ic/train: : 0.101074, icir/train: : 0.771379, ric/train: : 0.095990, ricir/train: : 0.731563, mse/train: : -0.028078, loss/train: : -0.028078\n",
      "[17540:MainThread](2022-01-02 17:44:50,548) INFO - qlib.ADARNN - [pytorch_adarnn.py:242] - ic/valid: : 0.079130, icir/valid: : 0.525082, ric/valid: : 0.072830, ricir/valid: : 0.482769, mse/valid: : -0.025492, loss/valid: : -0.025492\n",
      "[17540:MainThread](2022-01-02 17:44:50,548) INFO - qlib.ADARNN - [pytorch_adarnn.py:277] - Epoch12:\n",
      "[17540:MainThread](2022-01-02 17:44:50,549) INFO - qlib.ADARNN - [pytorch_adarnn.py:278] - training...\n",
      "[17540:MainThread](2022-01-02 17:45:26,881) INFO - qlib.ADARNN - [pytorch_adarnn.py:280] - evaluating...\n",
      "[17540:MainThread](2022-01-02 17:45:30,987) INFO - qlib.ADARNN - [pytorch_adarnn.py:242] - ic/train: : 0.101197, icir/train: : 0.771174, ric/train: : 0.095869, ricir/train: : 0.728170, mse/train: : -0.006896, loss/train: : -0.006896\n",
      "[17540:MainThread](2022-01-02 17:45:30,988) INFO - qlib.ADARNN - [pytorch_adarnn.py:242] - ic/valid: : 0.077499, icir/valid: : 0.514948, ric/valid: : 0.071260, ricir/valid: : 0.471568, mse/valid: : -0.003187, loss/valid: : -0.003187\n",
      "[17540:MainThread](2022-01-02 17:45:30,988) INFO - qlib.ADARNN - [pytorch_adarnn.py:277] - Epoch13:\n",
      "[17540:MainThread](2022-01-02 17:45:30,989) INFO - qlib.ADARNN - [pytorch_adarnn.py:278] - training...\n",
      "[17540:MainThread](2022-01-02 17:46:07,325) INFO - qlib.ADARNN - [pytorch_adarnn.py:280] - evaluating...\n",
      "[17540:MainThread](2022-01-02 17:46:11,421) INFO - qlib.ADARNN - [pytorch_adarnn.py:242] - ic/train: : 0.105519, icir/train: : 0.784678, ric/train: : 0.100327, ricir/train: : 0.745882, mse/train: : -0.012332, loss/train: : -0.012332\n",
      "[17540:MainThread](2022-01-02 17:46:11,421) INFO - qlib.ADARNN - [pytorch_adarnn.py:242] - ic/valid: : 0.083117, icir/valid: : 0.545186, ric/valid: : 0.076626, ricir/valid: : 0.498926, mse/valid: : -0.010136, loss/valid: : -0.010136\n",
      "[17540:MainThread](2022-01-02 17:46:11,422) INFO - qlib.ADARNN - [pytorch_adarnn.py:277] - Epoch14:\n",
      "[17540:MainThread](2022-01-02 17:46:11,423) INFO - qlib.ADARNN - [pytorch_adarnn.py:278] - training...\n",
      "[17540:MainThread](2022-01-02 17:46:47,605) INFO - qlib.ADARNN - [pytorch_adarnn.py:280] - evaluating...\n",
      "[17540:MainThread](2022-01-02 17:46:51,737) INFO - qlib.ADARNN - [pytorch_adarnn.py:242] - ic/train: : 0.106110, icir/train: : 0.773570, ric/train: : 0.100779, ricir/train: : 0.737942, mse/train: : -0.005613, loss/train: : -0.005613\n",
      "[17540:MainThread](2022-01-02 17:46:51,738) INFO - qlib.ADARNN - [pytorch_adarnn.py:242] - ic/valid: : 0.086709, icir/valid: : 0.563448, ric/valid: : 0.080252, ricir/valid: : 0.520697, mse/valid: : -0.004365, loss/valid: : -0.004365\n",
      "[17540:MainThread](2022-01-02 17:46:51,739) INFO - qlib.ADARNN - [pytorch_adarnn.py:277] - Epoch15:\n",
      "[17540:MainThread](2022-01-02 17:46:51,740) INFO - qlib.ADARNN - [pytorch_adarnn.py:278] - training...\n",
      "[17540:MainThread](2022-01-02 17:47:28,092) INFO - qlib.ADARNN - [pytorch_adarnn.py:280] - evaluating...\n",
      "[17540:MainThread](2022-01-02 17:47:32,197) INFO - qlib.ADARNN - [pytorch_adarnn.py:242] - ic/train: : 0.101742, icir/train: : 0.806034, ric/train: : 0.096988, ricir/train: : 0.763952, mse/train: : 0.024451, loss/train: : 0.024451\n",
      "[17540:MainThread](2022-01-02 17:47:32,198) INFO - qlib.ADARNN - [pytorch_adarnn.py:242] - ic/valid: : 0.077714, icir/valid: : 0.541619, ric/valid: : 0.071931, ricir/valid: : 0.500240, mse/valid: : 0.027977, loss/valid: : 0.027977\n",
      "[17540:MainThread](2022-01-02 17:47:32,199) INFO - qlib.ADARNN - [pytorch_adarnn.py:277] - Epoch16:\n",
      "[17540:MainThread](2022-01-02 17:47:32,200) INFO - qlib.ADARNN - [pytorch_adarnn.py:278] - training...\n",
      "[17540:MainThread](2022-01-02 17:48:08,374) INFO - qlib.ADARNN - [pytorch_adarnn.py:280] - evaluating...\n",
      "[17540:MainThread](2022-01-02 17:48:12,486) INFO - qlib.ADARNN - [pytorch_adarnn.py:242] - ic/train: : 0.106647, icir/train: : 0.835402, ric/train: : 0.101378, ricir/train: : 0.794304, mse/train: : -0.001547, loss/train: : -0.001547\n",
      "[17540:MainThread](2022-01-02 17:48:12,487) INFO - qlib.ADARNN - [pytorch_adarnn.py:242] - ic/valid: : 0.082974, icir/valid: : 0.571671, ric/valid: : 0.076804, ricir/valid: : 0.528375, mse/valid: : 0.000449, loss/valid: : 0.000449\n",
      "[17540:MainThread](2022-01-02 17:48:12,488) INFO - qlib.ADARNN - [pytorch_adarnn.py:277] - Epoch17:\n",
      "[17540:MainThread](2022-01-02 17:48:12,489) INFO - qlib.ADARNN - [pytorch_adarnn.py:278] - training...\n",
      "[17540:MainThread](2022-01-02 17:48:48,666) INFO - qlib.ADARNN - [pytorch_adarnn.py:280] - evaluating...\n",
      "[17540:MainThread](2022-01-02 17:48:52,803) INFO - qlib.ADARNN - [pytorch_adarnn.py:242] - ic/train: : 0.109393, icir/train: : 0.812000, ric/train: : 0.103883, ricir/train: : 0.776155, mse/train: : -0.010440, loss/train: : -0.010440\n",
      "[17540:MainThread](2022-01-02 17:48:52,804) INFO - qlib.ADARNN - [pytorch_adarnn.py:242] - ic/valid: : 0.088343, icir/valid: : 0.580501, ric/valid: : 0.082451, ricir/valid: : 0.540102, mse/valid: : -0.008671, loss/valid: : -0.008671\n",
      "[17540:MainThread](2022-01-02 17:48:52,805) INFO - qlib.ADARNN - [pytorch_adarnn.py:277] - Epoch18:\n",
      "[17540:MainThread](2022-01-02 17:48:52,806) INFO - qlib.ADARNN - [pytorch_adarnn.py:278] - training...\n",
      "[17540:MainThread](2022-01-02 17:49:29,139) INFO - qlib.ADARNN - [pytorch_adarnn.py:280] - evaluating...\n",
      "[17540:MainThread](2022-01-02 17:49:33,238) INFO - qlib.ADARNN - [pytorch_adarnn.py:242] - ic/train: : 0.110031, icir/train: : 0.847305, ric/train: : 0.104971, ricir/train: : 0.809345, mse/train: : 0.024373, loss/train: : 0.024373\n",
      "[17540:MainThread](2022-01-02 17:49:33,239) INFO - qlib.ADARNN - [pytorch_adarnn.py:242] - ic/valid: : 0.087864, icir/valid: : 0.594727, ric/valid: : 0.082042, ricir/valid: : 0.552357, mse/valid: : 0.025741, loss/valid: : 0.025741\n",
      "[17540:MainThread](2022-01-02 17:49:33,240) INFO - qlib.ADARNN - [pytorch_adarnn.py:277] - Epoch19:\n",
      "[17540:MainThread](2022-01-02 17:49:33,241) INFO - qlib.ADARNN - [pytorch_adarnn.py:278] - training...\n",
      "[17540:MainThread](2022-01-02 17:50:09,419) INFO - qlib.ADARNN - [pytorch_adarnn.py:280] - evaluating...\n",
      "[17540:MainThread](2022-01-02 17:50:13,539) INFO - qlib.ADARNN - [pytorch_adarnn.py:242] - ic/train: : 0.111056, icir/train: : 0.868481, ric/train: : 0.105801, ricir/train: : 0.830615, mse/train: : -0.008245, loss/train: : -0.008245\n",
      "[17540:MainThread](2022-01-02 17:50:13,540) INFO - qlib.ADARNN - [pytorch_adarnn.py:242] - ic/valid: : 0.089112, icir/valid: : 0.611567, ric/valid: : 0.083168, ricir/valid: : 0.568074, mse/valid: : -0.006691, loss/valid: : -0.006691\n",
      "[17540:MainThread](2022-01-02 17:50:13,541) INFO - qlib.ADARNN - [pytorch_adarnn.py:277] - Epoch20:\n",
      "[17540:MainThread](2022-01-02 17:50:13,542) INFO - qlib.ADARNN - [pytorch_adarnn.py:278] - training...\n",
      "[17540:MainThread](2022-01-02 17:50:50,065) INFO - qlib.ADARNN - [pytorch_adarnn.py:280] - evaluating...\n",
      "[17540:MainThread](2022-01-02 17:50:54,214) INFO - qlib.ADARNN - [pytorch_adarnn.py:242] - ic/train: : 0.111318, icir/train: : 0.843758, ric/train: : 0.106217, ricir/train: : 0.809214, mse/train: : 0.019411, loss/train: : 0.019411\n",
      "[17540:MainThread](2022-01-02 17:50:54,215) INFO - qlib.ADARNN - [pytorch_adarnn.py:242] - ic/valid: : 0.086859, icir/valid: : 0.586267, ric/valid: : 0.081239, ricir/valid: : 0.545596, mse/valid: : 0.022214, loss/valid: : 0.022214\n",
      "[17540:MainThread](2022-01-02 17:50:54,216) INFO - qlib.ADARNN - [pytorch_adarnn.py:277] - Epoch21:\n",
      "[17540:MainThread](2022-01-02 17:50:54,217) INFO - qlib.ADARNN - [pytorch_adarnn.py:278] - training...\n",
      "[17540:MainThread](2022-01-02 17:51:30,433) INFO - qlib.ADARNN - [pytorch_adarnn.py:280] - evaluating...\n",
      "[17540:MainThread](2022-01-02 17:51:34,850) INFO - qlib.ADARNN - [pytorch_adarnn.py:242] - ic/train: : 0.111914, icir/train: : 0.879958, ric/train: : 0.106736, ricir/train: : 0.843241, mse/train: : -0.026393, loss/train: : -0.026393\n",
      "[17540:MainThread](2022-01-02 17:51:34,851) INFO - qlib.ADARNN - [pytorch_adarnn.py:242] - ic/valid: : 0.087702, icir/valid: : 0.607216, ric/valid: : 0.081875, ricir/valid: : 0.569231, mse/valid: : -0.026660, loss/valid: : -0.026660\n",
      "[17540:MainThread](2022-01-02 17:51:34,852) INFO - qlib.ADARNN - [pytorch_adarnn.py:277] - Epoch22:\n",
      "[17540:MainThread](2022-01-02 17:51:34,853) INFO - qlib.ADARNN - [pytorch_adarnn.py:278] - training...\n",
      "[17540:MainThread](2022-01-02 17:52:10,989) INFO - qlib.ADARNN - [pytorch_adarnn.py:280] - evaluating...\n",
      "[17540:MainThread](2022-01-02 17:52:15,106) INFO - qlib.ADARNN - [pytorch_adarnn.py:242] - ic/train: : 0.107255, icir/train: : 0.859179, ric/train: : 0.103253, ricir/train: : 0.823748, mse/train: : -0.000937, loss/train: : -0.000937\n",
      "[17540:MainThread](2022-01-02 17:52:15,107) INFO - qlib.ADARNN - [pytorch_adarnn.py:242] - ic/valid: : 0.078530, icir/valid: : 0.557489, ric/valid: : 0.073879, ricir/valid: : 0.523684, mse/valid: : 0.003273, loss/valid: : 0.003273\n",
      "[17540:MainThread](2022-01-02 17:52:15,108) INFO - qlib.ADARNN - [pytorch_adarnn.py:277] - Epoch23:\n",
      "[17540:MainThread](2022-01-02 17:52:15,109) INFO - qlib.ADARNN - [pytorch_adarnn.py:278] - training...\n",
      "[17540:MainThread](2022-01-02 17:52:51,420) INFO - qlib.ADARNN - [pytorch_adarnn.py:280] - evaluating...\n",
      "[17540:MainThread](2022-01-02 17:52:55,506) INFO - qlib.ADARNN - [pytorch_adarnn.py:242] - ic/train: : 0.116059, icir/train: : 0.814165, ric/train: : 0.110985, ricir/train: : 0.785517, mse/train: : 0.000711, loss/train: : 0.000711\n",
      "[17540:MainThread](2022-01-02 17:52:55,507) INFO - qlib.ADARNN - [pytorch_adarnn.py:242] - ic/valid: : 0.099163, icir/valid: : 0.631579, ric/valid: : 0.092747, ricir/valid: : 0.594246, mse/valid: : -0.001283, loss/valid: : -0.001283\n",
      "[17540:MainThread](2022-01-02 17:52:55,508) INFO - qlib.ADARNN - [pytorch_adarnn.py:277] - Epoch24:\n",
      "[17540:MainThread](2022-01-02 17:52:55,509) INFO - qlib.ADARNN - [pytorch_adarnn.py:278] - training...\n",
      "[17540:MainThread](2022-01-02 17:53:31,656) INFO - qlib.ADARNN - [pytorch_adarnn.py:280] - evaluating...\n",
      "[17540:MainThread](2022-01-02 17:53:35,820) INFO - qlib.ADARNN - [pytorch_adarnn.py:242] - ic/train: : 0.119303, icir/train: : 0.894735, ric/train: : 0.114379, ricir/train: : 0.862557, mse/train: : -0.007629, loss/train: : -0.007629\n",
      "[17540:MainThread](2022-01-02 17:53:35,821) INFO - qlib.ADARNN - [pytorch_adarnn.py:242] - ic/valid: : 0.095299, icir/valid: : 0.640375, ric/valid: : 0.088979, ricir/valid: : 0.602547, mse/valid: : -0.006641, loss/valid: : -0.006641\n",
      "[17540:MainThread](2022-01-02 17:53:35,822) INFO - qlib.ADARNN - [pytorch_adarnn.py:277] - Epoch25:\n",
      "[17540:MainThread](2022-01-02 17:53:35,823) INFO - qlib.ADARNN - [pytorch_adarnn.py:278] - training...\n",
      "[17540:MainThread](2022-01-02 17:54:12,151) INFO - qlib.ADARNN - [pytorch_adarnn.py:280] - evaluating...\n",
      "[17540:MainThread](2022-01-02 17:54:16,273) INFO - qlib.ADARNN - [pytorch_adarnn.py:242] - ic/train: : 0.116493, icir/train: : 0.933832, ric/train: : 0.112544, ricir/train: : 0.900984, mse/train: : -0.007274, loss/train: : -0.007274\n",
      "[17540:MainThread](2022-01-02 17:54:16,274) INFO - qlib.ADARNN - [pytorch_adarnn.py:242] - ic/valid: : 0.086872, icir/valid: : 0.624235, ric/valid: : 0.081877, ricir/valid: : 0.584141, mse/valid: : -0.003807, loss/valid: : -0.003807\n",
      "[17540:MainThread](2022-01-02 17:54:16,275) INFO - qlib.ADARNN - [pytorch_adarnn.py:277] - Epoch26:\n",
      "[17540:MainThread](2022-01-02 17:54:16,276) INFO - qlib.ADARNN - [pytorch_adarnn.py:278] - training...\n",
      "[17540:MainThread](2022-01-02 17:54:52,466) INFO - qlib.ADARNN - [pytorch_adarnn.py:280] - evaluating...\n",
      "[17540:MainThread](2022-01-02 17:54:56,577) INFO - qlib.ADARNN - [pytorch_adarnn.py:242] - ic/train: : 0.118001, icir/train: : 0.900689, ric/train: : 0.113010, ricir/train: : 0.865676, mse/train: : 0.006284, loss/train: : 0.006284\n",
      "[17540:MainThread](2022-01-02 17:54:56,578) INFO - qlib.ADARNN - [pytorch_adarnn.py:242] - ic/valid: : 0.091781, icir/valid: : 0.602312, ric/valid: : 0.085503, ricir/valid: : 0.558561, mse/valid: : 0.007189, loss/valid: : 0.007189\n",
      "[17540:MainThread](2022-01-02 17:54:56,579) INFO - qlib.ADARNN - [pytorch_adarnn.py:277] - Epoch27:\n",
      "[17540:MainThread](2022-01-02 17:54:56,580) INFO - qlib.ADARNN - [pytorch_adarnn.py:278] - training...\n",
      "[17540:MainThread](2022-01-02 17:55:32,921) INFO - qlib.ADARNN - [pytorch_adarnn.py:280] - evaluating...\n",
      "[17540:MainThread](2022-01-02 17:55:37,076) INFO - qlib.ADARNN - [pytorch_adarnn.py:242] - ic/train: : 0.125087, icir/train: : 0.929617, ric/train: : 0.120264, ricir/train: : 0.896624, mse/train: : 0.015632, loss/train: : 0.015632\n",
      "[17540:MainThread](2022-01-02 17:55:37,077) INFO - qlib.ADARNN - [pytorch_adarnn.py:242] - ic/valid: : 0.097114, icir/valid: : 0.655096, ric/valid: : 0.090786, ricir/valid: : 0.611900, mse/valid: : 0.016464, loss/valid: : 0.016464\n",
      "[17540:MainThread](2022-01-02 17:55:37,078) INFO - qlib.ADARNN - [pytorch_adarnn.py:277] - Epoch28:\n",
      "[17540:MainThread](2022-01-02 17:55:37,079) INFO - qlib.ADARNN - [pytorch_adarnn.py:278] - training...\n",
      "[17540:MainThread](2022-01-02 17:56:13,233) INFO - qlib.ADARNN - [pytorch_adarnn.py:280] - evaluating...\n",
      "[17540:MainThread](2022-01-02 17:56:17,318) INFO - qlib.ADARNN - [pytorch_adarnn.py:242] - ic/train: : 0.124175, icir/train: : 0.984757, ric/train: : 0.119503, ricir/train: : 0.947917, mse/train: : 0.012455, loss/train: : 0.012455\n",
      "[17540:MainThread](2022-01-02 17:56:17,319) INFO - qlib.ADARNN - [pytorch_adarnn.py:242] - ic/valid: : 0.091626, icir/valid: : 0.651361, ric/valid: : 0.085360, ricir/valid: : 0.606518, mse/valid: : 0.016008, loss/valid: : 0.016008\n",
      "[17540:MainThread](2022-01-02 17:56:17,320) INFO - qlib.ADARNN - [pytorch_adarnn.py:277] - Epoch29:\n",
      "[17540:MainThread](2022-01-02 17:56:17,321) INFO - qlib.ADARNN - [pytorch_adarnn.py:278] - training...\n",
      "[17540:MainThread](2022-01-02 17:56:53,626) INFO - qlib.ADARNN - [pytorch_adarnn.py:280] - evaluating...\n",
      "[17540:MainThread](2022-01-02 17:56:57,729) INFO - qlib.ADARNN - [pytorch_adarnn.py:242] - ic/train: : 0.126990, icir/train: : 0.961608, ric/train: : 0.121999, ricir/train: : 0.925556, mse/train: : -0.021206, loss/train: : -0.021206\n",
      "[17540:MainThread](2022-01-02 17:56:57,730) INFO - qlib.ADARNN - [pytorch_adarnn.py:242] - ic/valid: : 0.095005, icir/valid: : 0.641394, ric/valid: : 0.088881, ricir/valid: : 0.599628, mse/valid: : -0.018272, loss/valid: : -0.018272\n",
      "[17540:MainThread](2022-01-02 17:56:57,731) INFO - qlib.ADARNN - [pytorch_adarnn.py:277] - Epoch30:\n",
      "[17540:MainThread](2022-01-02 17:56:57,732) INFO - qlib.ADARNN - [pytorch_adarnn.py:278] - training...\n",
      "[17540:MainThread](2022-01-02 17:57:33,846) INFO - qlib.ADARNN - [pytorch_adarnn.py:280] - evaluating...\n",
      "[17540:MainThread](2022-01-02 17:57:37,956) INFO - qlib.ADARNN - [pytorch_adarnn.py:242] - ic/train: : 0.128290, icir/train: : 0.953505, ric/train: : 0.124179, ricir/train: : 0.923503, mse/train: : -0.020102, loss/train: : -0.020102\n",
      "[17540:MainThread](2022-01-02 17:57:37,958) INFO - qlib.ADARNN - [pytorch_adarnn.py:242] - ic/valid: : 0.101395, icir/valid: : 0.678117, ric/valid: : 0.094945, ricir/valid: : 0.634764, mse/valid: : -0.019488, loss/valid: : -0.019488\n",
      "[17540:MainThread](2022-01-02 17:57:37,958) INFO - qlib.ADARNN - [pytorch_adarnn.py:277] - Epoch31:\n",
      "[17540:MainThread](2022-01-02 17:57:37,959) INFO - qlib.ADARNN - [pytorch_adarnn.py:278] - training...\n",
      "[17540:MainThread](2022-01-02 17:58:14,239) INFO - qlib.ADARNN - [pytorch_adarnn.py:280] - evaluating...\n",
      "[17540:MainThread](2022-01-02 17:58:18,379) INFO - qlib.ADARNN - [pytorch_adarnn.py:242] - ic/train: : 0.131415, icir/train: : 1.012050, ric/train: : 0.126964, ricir/train: : 0.978782, mse/train: : 0.001363, loss/train: : 0.001363\n",
      "[17540:MainThread](2022-01-02 17:58:18,380) INFO - qlib.ADARNN - [pytorch_adarnn.py:242] - ic/valid: : 0.096122, icir/valid: : 0.675044, ric/valid: : 0.090446, ricir/valid: : 0.639071, mse/valid: : 0.002767, loss/valid: : 0.002767\n",
      "[17540:MainThread](2022-01-02 17:58:18,381) INFO - qlib.ADARNN - [pytorch_adarnn.py:277] - Epoch32:\n",
      "[17540:MainThread](2022-01-02 17:58:18,382) INFO - qlib.ADARNN - [pytorch_adarnn.py:278] - training...\n",
      "[17540:MainThread](2022-01-02 17:58:54,528) INFO - qlib.ADARNN - [pytorch_adarnn.py:280] - evaluating...\n",
      "[17540:MainThread](2022-01-02 17:58:58,634) INFO - qlib.ADARNN - [pytorch_adarnn.py:242] - ic/train: : 0.132554, icir/train: : 1.051851, ric/train: : 0.128325, ricir/train: : 1.014335, mse/train: : -0.026233, loss/train: : -0.026233\n",
      "[17540:MainThread](2022-01-02 17:58:58,636) INFO - qlib.ADARNN - [pytorch_adarnn.py:242] - ic/valid: : 0.097612, icir/valid: : 0.714747, ric/valid: : 0.091329, ricir/valid: : 0.668857, mse/valid: : -0.024956, loss/valid: : -0.024956\n",
      "[17540:MainThread](2022-01-02 17:58:58,636) INFO - qlib.ADARNN - [pytorch_adarnn.py:277] - Epoch33:\n",
      "[17540:MainThread](2022-01-02 17:58:58,637) INFO - qlib.ADARNN - [pytorch_adarnn.py:278] - training...\n",
      "[17540:MainThread](2022-01-02 17:59:35,097) INFO - qlib.ADARNN - [pytorch_adarnn.py:280] - evaluating...\n",
      "[17540:MainThread](2022-01-02 17:59:39,215) INFO - qlib.ADARNN - [pytorch_adarnn.py:242] - ic/train: : 0.131070, icir/train: : 1.049446, ric/train: : 0.126383, ricir/train: : 1.012087, mse/train: : -0.016540, loss/train: : -0.016540\n",
      "[17540:MainThread](2022-01-02 17:59:39,216) INFO - qlib.ADARNN - [pytorch_adarnn.py:242] - ic/valid: : 0.092253, icir/valid: : 0.674246, ric/valid: : 0.085944, ricir/valid: : 0.630919, mse/valid: : -0.012298, loss/valid: : -0.012298\n",
      "[17540:MainThread](2022-01-02 17:59:39,217) INFO - qlib.ADARNN - [pytorch_adarnn.py:277] - Epoch34:\n",
      "[17540:MainThread](2022-01-02 17:59:39,218) INFO - qlib.ADARNN - [pytorch_adarnn.py:278] - training...\n",
      "[17540:MainThread](2022-01-02 18:00:15,404) INFO - qlib.ADARNN - [pytorch_adarnn.py:280] - evaluating...\n",
      "[17540:MainThread](2022-01-02 18:00:19,538) INFO - qlib.ADARNN - [pytorch_adarnn.py:242] - ic/train: : 0.138082, icir/train: : 1.087664, ric/train: : 0.133280, ricir/train: : 1.048875, mse/train: : 0.015891, loss/train: : 0.015891\n",
      "[17540:MainThread](2022-01-02 18:00:19,538) INFO - qlib.ADARNN - [pytorch_adarnn.py:242] - ic/valid: : 0.097872, icir/valid: : 0.684125, ric/valid: : 0.090970, ricir/valid: : 0.636173, mse/valid: : 0.016970, loss/valid: : 0.016970\n",
      "[17540:MainThread](2022-01-02 18:00:19,538) INFO - qlib.ADARNN - [pytorch_adarnn.py:277] - Epoch35:\n",
      "[17540:MainThread](2022-01-02 18:00:19,540) INFO - qlib.ADARNN - [pytorch_adarnn.py:278] - training...\n",
      "[17540:MainThread](2022-01-02 18:00:55,856) INFO - qlib.ADARNN - [pytorch_adarnn.py:280] - evaluating...\n",
      "[17540:MainThread](2022-01-02 18:00:59,992) INFO - qlib.ADARNN - [pytorch_adarnn.py:242] - ic/train: : 0.139165, icir/train: : 1.128418, ric/train: : 0.134706, ricir/train: : 1.085123, mse/train: : -0.016167, loss/train: : -0.016167\n",
      "[17540:MainThread](2022-01-02 18:00:59,993) INFO - qlib.ADARNN - [pytorch_adarnn.py:242] - ic/valid: : 0.091374, icir/valid: : 0.669778, ric/valid: : 0.085700, ricir/valid: : 0.622779, mse/valid: : -0.012523, loss/valid: : -0.012523\n",
      "[17540:MainThread](2022-01-02 18:00:59,994) INFO - qlib.ADARNN - [pytorch_adarnn.py:298] - early stop\n",
      "[17540:MainThread](2022-01-02 18:00:59,995) INFO - qlib.ADARNN - [pytorch_adarnn.py:301] - best score: 0.027977 @ 15\n",
      "[17540:MainThread](2022-01-02 18:01:01,350) INFO - qlib.workflow - [record_temp.py:191] - Signal record 'pred.pkl' has been saved as the artifact of the Experiment 2\n"
     ]
    },
    {
     "name": "stdout",
     "output_type": "stream",
     "text": [
      "'The following are prediction results of the ADARNN model.'\n",
      "                          score\n",
      "datetime   instrument          \n",
      "2017-01-03 SH600000    0.086687\n",
      "           SH600008    0.045563\n",
      "           SH600009    0.102690\n",
      "           SH600010    0.070150\n",
      "           SH600015    0.064592\n"
     ]
    },
    {
     "name": "stderr",
     "output_type": "stream",
     "text": [
      "C:\\Users\\chen\\.conda\\envs\\ml-finance\\lib\\site-packages\\scipy\\stats\\stats.py:4264: SpearmanRConstantInputWarning: An input array is constant; the correlation coefficent is not defined.\n",
      "  warnings.warn(SpearmanRConstantInputWarning())\n"
     ]
    },
    {
     "name": "stdout",
     "output_type": "stream",
     "text": [
      "{'IC': 0.043786451131138555,\n",
      " 'ICIR': 0.33911214368646725,\n",
      " 'Rank IC': 0.04976623098819317,\n",
      " 'Rank ICIR': 0.3895580585934359}\n"
     ]
    },
    {
     "name": "stderr",
     "output_type": "stream",
     "text": [
      "[17540:MainThread](2022-01-02 18:01:02,738) INFO - qlib.backtest caller - [__init__.py:82] - Create new exchange\n",
      "[17540:MainThread](2022-01-02 18:01:08,247) WARNING - qlib.BaseExecutor - [executor.py:115] - `common_infra` is not set for <qlib.backtest.executor.SimulatorExecutor object at 0x0000022B31A307F0>\n",
      "backtest loop:   0%|          | 0/871 [00:00<?, ?it/s]d:\\GitHub\\PublicRepos\\Stocks\\qlib\\qlib\\utils\\index_data.py:480: RuntimeWarning: Mean of empty slice\n",
      "  return np.nanmean(self.data)\n",
      "backtest loop: 100%|██████████| 871/871 [00:10<00:00, 84.30it/s]\n",
      "[17540:MainThread](2022-01-02 18:01:19,168) INFO - qlib.workflow - [record_temp.py:441] - Portfolio analysis record 'port_analysis_1day.pkl' has been saved as the artifact of the Experiment 2\n"
     ]
    },
    {
     "name": "stdout",
     "output_type": "stream",
     "text": [
      "'The following are analysis results of benchmark return(1day).'\n",
      "                       risk\n",
      "mean               0.000477\n",
      "std                0.012295\n",
      "annualized_return  0.113561\n",
      "information_ratio  0.598699\n",
      "max_drawdown      -0.370479\n",
      "'The following are analysis results of the excess return without cost(1day).'\n",
      "                       risk\n",
      "mean               0.000384\n",
      "std                0.004692\n",
      "annualized_return  0.091360\n",
      "information_ratio  1.262087\n",
      "max_drawdown      -0.073440\n",
      "'The following are analysis results of the excess return with cost(1day).'\n",
      "                       risk\n",
      "mean               0.000201\n",
      "std                0.004692\n",
      "annualized_return  0.047876\n",
      "information_ratio  0.661390\n",
      "max_drawdown      -0.085443\n"
     ]
    },
    {
     "name": "stderr",
     "output_type": "stream",
     "text": [
      "[17540:MainThread](2022-01-02 18:01:19,186) INFO - qlib.workflow - [record_temp.py:466] - Indicator analysis record 'indicator_analysis_1day.pkl' has been saved as the artifact of the Experiment 2\n"
     ]
    },
    {
     "name": "stdout",
     "output_type": "stream",
     "text": [
      "'The following are analysis results of indicators(1day).'\n",
      "     value\n",
      "ffr    1.0\n",
      "pa     0.0\n",
      "pos    0.0\n"
     ]
    },
    {
     "name": "stderr",
     "output_type": "stream",
     "text": [
      "[17540:MainThread](2022-01-02 18:01:19,212) INFO - qlib.timer - [log.py:113] - Time cost: 0.009s | waiting `async_log` Done\n"
     ]
    }
   ],
   "source": [
    "workflow('examples/benchmarks/ADARNN/workflow_config_adarnn_Alpha360.yaml', experiment_name='pztest3')"
   ]
  },
  {
   "cell_type": "code",
   "execution_count": 5,
   "metadata": {},
   "outputs": [],
   "source": [
    "def load_yaml_file(path):\n",
    "    with open(path) as f:\n",
    "        return    yaml.safe_load(f)"
   ]
  },
  {
   "cell_type": "code",
   "execution_count": 6,
   "metadata": {},
   "outputs": [],
   "source": [
    "task_template = load_yaml_file(config_paths['template'])"
   ]
  },
  {
   "cell_type": "code",
   "execution_count": 7,
   "metadata": {},
   "outputs": [],
   "source": [
    "tasks = []\n",
    "for path in config_paths['models'].values():\n",
    "    t = task_template['task'].copy()\n",
    "    config_raw = load_yaml_file(path)\n",
    "    t['model'] = config_raw['task']['model']\n",
    "    tasks.append(t)"
   ]
  },
  {
   "cell_type": "code",
   "execution_count": 8,
   "metadata": {},
   "outputs": [],
   "source": [
    "from qlib.config import REG_CN\n",
    "\n",
    "provider_uri=\"~/.qlib/qlib_data/cn_data\"\n",
    "region=REG_CN"
   ]
  },
  {
   "cell_type": "code",
   "execution_count": 9,
   "metadata": {},
   "outputs": [],
   "source": [
    "task_url=\"mongodb://localhost:27017/\"\n",
    "task_db_name=\"rolling_db\"\n",
    "mongo_conf = {\n",
    "    \"task_url\": task_url,\n",
    "    \"task_db_name\": task_db_name,\n",
    "}"
   ]
  },
  {
   "cell_type": "code",
   "execution_count": 10,
   "metadata": {},
   "outputs": [
    {
     "name": "stderr",
     "output_type": "stream",
     "text": [
      "[28760:MainThread](2021-12-28 22:15:15,982) INFO - qlib.Initialization - [config.py:384] - default_conf: client.\n",
      "[28760:MainThread](2021-12-28 22:15:16,257) INFO - qlib.Initialization - [__init__.py:56] - qlib successfully initialized based on client settings.\n",
      "[28760:MainThread](2021-12-28 22:15:16,257) INFO - qlib.Initialization - [__init__.py:58] - data_path={'__DEFAULT_FREQ': WindowsPath('C:/Users/chen/.qlib/qlib_data/cn_data')}\n"
     ]
    }
   ],
   "source": [
    "qlib.init(provider_uri=provider_uri, region=region, mongo=mongo_conf)"
   ]
  },
  {
   "cell_type": "code",
   "execution_count": 11,
   "metadata": {},
   "outputs": [],
   "source": [
    "from qlib.model.trainer import TrainerRM\n",
    "\n",
    "experiment_name=\"baselines1_dates1\"\n",
    "task_pool=\"baselines1_dates1_tasks\"\n",
    "\n",
    "trainer = TrainerRM(experiment_name, task_pool)"
   ]
  },
  {
   "cell_type": "markdown",
   "metadata": {},
   "source": [
    "读取config_paths中的文件到内存中，作为dict类型的config"
   ]
  },
  {
   "cell_type": "markdown",
   "metadata": {},
   "source": [
    " - 改进一下，先选择一个文件作为template，然后就只改变model部分，其它的保持不变\n",
    " - model部分就替换成新文件的内容"
   ]
  },
  {
   "cell_type": "code",
   "execution_count": 12,
   "metadata": {},
   "outputs": [
    {
     "name": "stderr",
     "output_type": "stream",
     "text": [
      "[28760:MainThread](2021-12-28 22:15:17,108) INFO - qlib.task - [utils.py:49] - mongo config:{'task_url': 'mongodb://localhost:27017/', 'task_db_name': 'rolling_db'}\n",
      "[28760:MainThread](2021-12-28 22:15:17,111) INFO - qlib.TaskManager - [manage.py:97] - task_pool:baselines1_dates1_tasks\n"
     ]
    }
   ],
   "source": [
    "from qlib.workflow.task.manage import TaskManager\n",
    "from qlib.workflow import R\n",
    "\n",
    "TaskManager(task_pool=task_pool).remove()\n",
    "exp = R.get_exp(experiment_name=experiment_name)\n",
    "for rid in exp.list_recorders():\n",
    "            exp.delete_recorder(rid)"
   ]
  },
  {
   "cell_type": "code",
   "execution_count": 13,
   "metadata": {},
   "outputs": [
    {
     "name": "stderr",
     "output_type": "stream",
     "text": [
      "[28760:MainThread](2021-12-28 22:15:17,426) INFO - qlib.task - [utils.py:49] - mongo config:{'task_url': 'mongodb://localhost:27017/', 'task_db_name': 'rolling_db'}\n",
      "[28760:MainThread](2021-12-28 22:15:17,428) INFO - qlib.TaskManager - [manage.py:97] - task_pool:baselines1_dates1_tasks\n",
      "[28760:MainThread](2021-12-28 22:15:17,462) INFO - qlib.TaskManager - [manage.py:252] - Total Tasks: 2, New Tasks: 2\n",
      "[28760:MainThread](2021-12-28 22:15:17,462) INFO - qlib.task - [utils.py:49] - mongo config:{'task_url': 'mongodb://localhost:27017/', 'task_db_name': 'rolling_db'}\n",
      "[28760:MainThread](2021-12-28 22:15:17,464) INFO - qlib.TaskManager - [manage.py:97] - task_pool:baselines1_dates1_tasks\n",
      "[28760:MainThread](2021-12-28 22:15:17,467) INFO - qlib.run_task - [manage.py:531] - {'model': {'class': 'LGBModel', 'module_path': 'qlib.contrib.model.gbdt', 'kwargs': {'loss': 'mse', 'colsample_bytree': 0.8879, 'learning_rate': 0.2, 'subsample': 0.8789, 'lambda_l1': 205.6999, 'lambda_l2': 580.9768, 'max_depth': 8, 'num_leaves': 210, 'num_threads': 20}}, 'dataset': {'class': 'DatasetH', 'module_path': 'qlib.data.dataset', 'kwargs': {'handler': {'class': 'Alpha158', 'module_path': 'qlib.contrib.data.handler', 'kwargs': {'start_time': datetime.date(2008, 1, 1), 'end_time': datetime.date(2020, 8, 1), 'fit_start_time': datetime.date(2008, 1, 1), 'fit_end_time': datetime.date(2014, 12, 31), 'instruments': 'csi300'}}, 'segments': {'train': [datetime.date(2008, 1, 1), datetime.date(2014, 12, 31)], 'valid': [datetime.date(2015, 1, 1), datetime.date(2016, 12, 31)], 'test': [datetime.date(2017, 1, 1), datetime.date(2020, 8, 1)]}}}, 'record': [{'class': 'SignalRecord', 'module_path': 'qlib.workflow.record_temp', 'kwargs': {'model': '<MODEL>', 'dataset': '<DATASET>'}}, {'class': 'SigAnaRecord', 'module_path': 'qlib.workflow.record_temp', 'kwargs': {'ana_long_short': False, 'ann_scaler': 252}}, {'class': 'PortAnaRecord', 'module_path': 'qlib.workflow.record_temp', 'kwargs': {'config': {'strategy': {'class': 'TopkDropoutStrategy', 'module_path': 'qlib.contrib.strategy', 'kwargs': {'model': '<MODEL>', 'dataset': '<DATASET>', 'topk': 50, 'n_drop': 5}}, 'backtest': {'start_time': datetime.date(2017, 1, 1), 'end_time': datetime.date(2020, 8, 1), 'account': 100000000, 'benchmark': 'SH000300', 'exchange_kwargs': {'limit_threshold': 0.095, 'deal_price': 'close', 'open_cost': 0.0005, 'close_cost': 0.0015, 'min_cost': 5}}}}}]}\n",
      "[28760:MainThread](2021-12-28 22:15:17,468) INFO - qlib.workflow - [expm.py:282] - No tracking URI is provided. Use the default tracking URI.\n",
      "[28760:MainThread](2021-12-28 22:15:17,468) INFO - qlib.workflow - [expm.py:318] - <mlflow.tracking.client.MlflowClient object at 0x0000026899DFCE20>\n",
      "[28760:MainThread](2021-12-28 22:15:17,470) INFO - qlib.workflow - [exp.py:249] - Experiment 1 starts running ...\n",
      "[28760:MainThread](2021-12-28 22:15:17,597) INFO - qlib.workflow - [recorder.py:290] - Recorder 998900d0dc474de687ae4b9e22b00152 starts running under Experiment 1 ...\n",
      "[28760:MainThread](2021-12-28 22:15:23,027) INFO - qlib.timer - [log.py:113] - Time cost: 4.470s | Loading data Done\n",
      "[28760:MainThread](2021-12-28 22:15:23,598) INFO - qlib.timer - [log.py:113] - Time cost: 0.472s | DropnaLabel Done\n",
      "C:\\Users\\chen\\.conda\\envs\\ml-finance\\lib\\site-packages\\pandas\\core\\frame.py:3191: SettingWithCopyWarning: \n",
      "A value is trying to be set on a copy of a slice from a DataFrame.\n",
      "Try using .loc[row_indexer,col_indexer] = value instead\n",
      "\n",
      "See the caveats in the documentation: https://pandas.pydata.org/pandas-docs/stable/user_guide/indexing.html#returning-a-view-versus-a-copy\n",
      "  self[k1] = value[k2]\n",
      "[28760:MainThread](2021-12-28 22:15:27,239) INFO - qlib.timer - [log.py:113] - Time cost: 3.640s | CSZScoreNorm Done\n",
      "[28760:MainThread](2021-12-28 22:15:27,275) INFO - qlib.timer - [log.py:113] - Time cost: 4.246s | fit & process data Done\n",
      "[28760:MainThread](2021-12-28 22:15:27,275) INFO - qlib.timer - [log.py:113] - Time cost: 8.718s | Init data Done\n",
      "C:\\Users\\chen\\.conda\\envs\\ml-finance\\lib\\site-packages\\lightgbm\\engine.py:181: UserWarning: 'early_stopping_rounds' argument is deprecated and will be removed in a future release of LightGBM. Pass 'early_stopping()' callback via 'callbacks' argument instead.\n",
      "  _log_warning(\"'early_stopping_rounds' argument is deprecated and will be removed in a future release of LightGBM. \"\n",
      "C:\\Users\\chen\\.conda\\envs\\ml-finance\\lib\\site-packages\\lightgbm\\engine.py:239: UserWarning: 'verbose_eval' argument is deprecated and will be removed in a future release of LightGBM. Pass 'log_evaluation()' callback via 'callbacks' argument instead.\n",
      "  _log_warning(\"'verbose_eval' argument is deprecated and will be removed in a future release of LightGBM. \"\n",
      "C:\\Users\\chen\\.conda\\envs\\ml-finance\\lib\\site-packages\\lightgbm\\engine.py:260: UserWarning: 'evals_result' argument is deprecated and will be removed in a future release of LightGBM. Pass 'record_evaluation()' callback via 'callbacks' argument instead.\n",
      "  _log_warning(\"'evals_result' argument is deprecated and will be removed in a future release of LightGBM. \"\n"
     ]
    },
    {
     "name": "stdout",
     "output_type": "stream",
     "text": [
      "Training until validation scores don't improve for 50 rounds\n",
      "[20]\ttrain's l2: 0.980734\tvalid's l2: 0.993395\n",
      "[40]\ttrain's l2: 0.97293\tvalid's l2: 0.993831\n",
      "[60]\ttrain's l2: 0.966246\tvalid's l2: 0.994437\n",
      "Early stopping, best iteration is:\n",
      "[17]\ttrain's l2: 0.982089\tvalid's l2: 0.993247\n"
     ]
    },
    {
     "name": "stderr",
     "output_type": "stream",
     "text": [
      "[28760:MainThread](2021-12-28 22:15:33,963) INFO - qlib.workflow - [record_temp.py:191] - Signal record 'pred.pkl' has been saved as the artifact of the Experiment 1\n"
     ]
    },
    {
     "name": "stdout",
     "output_type": "stream",
     "text": [
      "'The following are prediction results of the LGBModel model.'\n",
      "                          score\n",
      "datetime   instrument          \n",
      "2017-01-03 SH600000    0.005739\n",
      "           SH600008    0.008754\n",
      "           SH600009    0.005616\n",
      "           SH600010    0.004441\n",
      "           SH600015   -0.138128\n",
      "{'IC': 0.04476368614011209,\n",
      " 'ICIR': 0.36598257755834135,\n",
      " 'Rank IC': 0.04691227376374535,\n",
      " 'Rank ICIR': 0.3876538157653994}\n"
     ]
    },
    {
     "name": "stderr",
     "output_type": "stream",
     "text": [
      "[28760:MainThread](2021-12-28 22:15:34,803) INFO - qlib.backtest caller - [__init__.py:82] - Create new exchange\n",
      "[28760:MainThread](2021-12-28 22:15:39,675) WARNING - qlib.BaseExecutor - [executor.py:115] - `common_infra` is not set for <qlib.backtest.executor.SimulatorExecutor object at 0x00000268CCF06D60>\n",
      "backtest loop:   0%|          | 0/871 [00:00<?, ?it/s]d:\\GitHub\\PublicRepos\\Stocks\\qlib\\qlib\\utils\\index_data.py:480: RuntimeWarning: Mean of empty slice\n",
      "  return np.nanmean(self.data)\n",
      "backtest loop: 100%|██████████| 871/871 [00:11<00:00, 78.67it/s]\n",
      "[28760:MainThread](2021-12-28 22:15:51,396) INFO - qlib.workflow - [record_temp.py:441] - Portfolio analysis record 'port_analysis_1day.pkl' has been saved as the artifact of the Experiment 1\n"
     ]
    },
    {
     "name": "stdout",
     "output_type": "stream",
     "text": [
      "'The following are analysis results of benchmark return(1day).'\n",
      "                       risk\n",
      "mean               0.000477\n",
      "std                0.012295\n",
      "annualized_return  0.113561\n",
      "information_ratio  0.598699\n",
      "max_drawdown      -0.370479\n",
      "'The following are analysis results of the excess return without cost(1day).'\n",
      "                       risk\n",
      "mean               0.000574\n",
      "std                0.005747\n",
      "annualized_return  0.136508\n",
      "information_ratio  1.539707\n",
      "max_drawdown      -0.094033\n",
      "'The following are analysis results of the excess return with cost(1day).'\n",
      "                       risk\n",
      "mean               0.000378\n",
      "std                0.005744\n",
      "annualized_return  0.090061\n",
      "information_ratio  1.016402\n",
      "max_drawdown      -0.103801\n"
     ]
    },
    {
     "name": "stderr",
     "output_type": "stream",
     "text": [
      "[28760:MainThread](2021-12-28 22:15:51,417) INFO - qlib.workflow - [record_temp.py:466] - Indicator analysis record 'indicator_analysis_1day.pkl' has been saved as the artifact of the Experiment 1\n"
     ]
    },
    {
     "name": "stdout",
     "output_type": "stream",
     "text": [
      "'The following are analysis results of indicators(1day).'\n",
      "     value\n",
      "ffr    1.0\n",
      "pa     0.0\n",
      "pos    0.0\n"
     ]
    },
    {
     "name": "stderr",
     "output_type": "stream",
     "text": [
      "Exception in thread Thread-10:\n",
      "Traceback (most recent call last):\n",
      "  File \"C:\\Users\\chen\\.conda\\envs\\ml-finance\\lib\\threading.py\", line 932, in _bootstrap_inner\n",
      "    self.run()\n",
      "  File \"C:\\Users\\chen\\.conda\\envs\\ml-finance\\lib\\threading.py\", line 870, in run\n",
      "    self._target(*self._args, **self._kwargs)\n",
      "  File \"d:\\GitHub\\PublicRepos\\Stocks\\qlib\\qlib\\utils\\paral.py\", line 84, in run\n",
      "    data()\n",
      "  File \"d:\\GitHub\\PublicRepos\\Stocks\\qlib\\qlib\\workflow\\recorder.py\", line 365, in log_metrics\n",
      "    self.client.log_metric(self.id, name, data, step=step)\n",
      "  File \"C:\\Users\\chen\\.conda\\envs\\ml-finance\\lib\\site-packages\\mlflow\\tracking\\client.py\", line 690, in log_metric\n",
      "    self._tracking_client.log_metric(run_id, key, value, timestamp, step)\n",
      "  File \"C:\\Users\\chen\\.conda\\envs\\ml-finance\\lib\\site-packages\\mlflow\\tracking\\_tracking_service\\client.py\", line 233, in log_metric\n",
      "    self.store.log_metric(run_id, metric)\n",
      "  File \"C:\\Users\\chen\\.conda\\envs\\ml-finance\\lib\\site-packages\\mlflow\\store\\tracking\\file_store.py\", line 776, in log_metric\n",
      "    run_info = self._get_run_info(run_id)\n",
      "  File \"C:\\Users\\chen\\.conda\\envs\\ml-finance\\lib\\site-packages\\mlflow\\store\\tracking\\file_store.py\", line 554, in _get_run_info\n",
      "    run_info = self._get_run_info_from_dir(run_dir)\n",
      "  File \"C:\\Users\\chen\\.conda\\envs\\ml-finance\\lib\\site-packages\\mlflow\\store\\tracking\\file_store.py\", line 563, in _get_run_info_from_dir\n",
      "    run_info = _read_persisted_run_info_dict(meta)\n",
      "  File \"C:\\Users\\chen\\.conda\\envs\\ml-finance\\lib\\site-packages\\mlflow\\store\\tracking\\file_store.py\", line 104, in _read_persisted_run_info_dict\n",
      "    dict_copy = run_info_dict.copy()\n",
      "AttributeError: 'NoneType' object has no attribute 'copy'\n",
      "[28760:MainThread](2021-12-28 22:15:51,468) INFO - qlib.timer - [log.py:113] - Time cost: 0.032s | waiting `async_log` Done\n",
      "[28760:MainThread](2021-12-28 22:15:51,470) INFO - qlib.run_task - [manage.py:531] - {'model': {'class': 'XGBModel', 'module_path': 'qlib.contrib.model.xgboost', 'kwargs': {'eval_metric': 'rmse', 'colsample_bytree': 0.8879, 'eta': 0.0421, 'max_depth': 8, 'n_estimators': 647, 'subsample': 0.8789, 'nthread': 20}}, 'dataset': {'class': 'DatasetH', 'module_path': 'qlib.data.dataset', 'kwargs': {'handler': {'class': 'Alpha158', 'module_path': 'qlib.contrib.data.handler', 'kwargs': {'start_time': datetime.date(2008, 1, 1), 'end_time': datetime.date(2020, 8, 1), 'fit_start_time': datetime.date(2008, 1, 1), 'fit_end_time': datetime.date(2014, 12, 31), 'instruments': 'csi300'}}, 'segments': {'train': [datetime.date(2008, 1, 1), datetime.date(2014, 12, 31)], 'valid': [datetime.date(2015, 1, 1), datetime.date(2016, 12, 31)], 'test': [datetime.date(2017, 1, 1), datetime.date(2020, 8, 1)]}}}, 'record': [{'class': 'SignalRecord', 'module_path': 'qlib.workflow.record_temp', 'kwargs': {'model': '<MODEL>', 'dataset': '<DATASET>'}}, {'class': 'SigAnaRecord', 'module_path': 'qlib.workflow.record_temp', 'kwargs': {'ana_long_short': False, 'ann_scaler': 252}}, {'class': 'PortAnaRecord', 'module_path': 'qlib.workflow.record_temp', 'kwargs': {'config': {'strategy': {'class': 'TopkDropoutStrategy', 'module_path': 'qlib.contrib.strategy', 'kwargs': {'model': '<MODEL>', 'dataset': '<DATASET>', 'topk': 50, 'n_drop': 5}}, 'backtest': {'start_time': datetime.date(2017, 1, 1), 'end_time': datetime.date(2020, 8, 1), 'account': 100000000, 'benchmark': 'SH000300', 'exchange_kwargs': {'limit_threshold': 0.095, 'deal_price': 'close', 'open_cost': 0.0005, 'close_cost': 0.0015, 'min_cost': 5}}}}}]}\n",
      "[28760:MainThread](2021-12-28 22:15:51,546) INFO - qlib.workflow - [expm.py:282] - No tracking URI is provided. Use the default tracking URI.\n",
      "[28760:MainThread](2021-12-28 22:15:51,547) INFO - qlib.workflow - [expm.py:318] - <mlflow.tracking.client.MlflowClient object at 0x00000268A233D910>\n",
      "[28760:MainThread](2021-12-28 22:15:51,549) INFO - qlib.workflow - [exp.py:249] - Experiment 1 starts running ...\n",
      "[28760:MainThread](2021-12-28 22:15:51,565) INFO - qlib.workflow - [recorder.py:290] - Recorder 47e0c4c069764f9cb81b01329225164c starts running under Experiment 1 ...\n",
      "[28760:MainThread](2021-12-28 22:15:56,095) INFO - qlib.timer - [log.py:113] - Time cost: 4.517s | Loading data Done\n",
      "[28760:MainThread](2021-12-28 22:15:56,668) INFO - qlib.timer - [log.py:113] - Time cost: 0.473s | DropnaLabel Done\n",
      "C:\\Users\\chen\\.conda\\envs\\ml-finance\\lib\\site-packages\\pandas\\core\\frame.py:3191: SettingWithCopyWarning: \n",
      "A value is trying to be set on a copy of a slice from a DataFrame.\n",
      "Try using .loc[row_indexer,col_indexer] = value instead\n",
      "\n",
      "See the caveats in the documentation: https://pandas.pydata.org/pandas-docs/stable/user_guide/indexing.html#returning-a-view-versus-a-copy\n",
      "  self[k1] = value[k2]\n",
      "[28760:MainThread](2021-12-28 22:16:00,337) INFO - qlib.timer - [log.py:113] - Time cost: 3.667s | CSZScoreNorm Done\n",
      "[28760:MainThread](2021-12-28 22:16:00,374) INFO - qlib.timer - [log.py:113] - Time cost: 4.277s | fit & process data Done\n",
      "[28760:MainThread](2021-12-28 22:16:00,375) INFO - qlib.timer - [log.py:113] - Time cost: 8.795s | Init data Done\n"
     ]
    },
    {
     "name": "stdout",
     "output_type": "stream",
     "text": [
      "[22:16:01] WARNING: C:/Users/Administrator/workspace/xgboost-win64_release_1.5.0/src/learner.cc:576: \n",
      "Parameters: { \"n_estimators\" } might not be used.\n",
      "\n",
      "  This could be a false alarm, with some parameters getting used by language bindings but\n",
      "  then being mistakenly passed down to XGBoost core, or some parameter actually being used\n",
      "  but getting flagged wrongly here. Please open an issue if you find any such cases.\n",
      "\n",
      "\n",
      "[0]\ttrain-rmse:1.10671\tvalid-rmse:1.10709\n",
      "[20]\ttrain-rmse:1.01070\tvalid-rmse:1.01752\n",
      "[40]\ttrain-rmse:0.98857\tvalid-rmse:1.00070\n",
      "[60]\ttrain-rmse:0.98152\tvalid-rmse:0.99787\n"
     ]
    },
    {
     "name": "stderr",
     "output_type": "stream",
     "text": [
      "[28760:MainThread](2021-12-28 22:18:50,563) INFO - qlib.TaskManager - [manage.py:305] - Returning task before raising error\n",
      "[28760:MainThread](2021-12-28 22:18:50,565) INFO - qlib.TaskManager - [manage.py:307] - Task returned\n"
     ]
    },
    {
     "ename": "KeyboardInterrupt",
     "evalue": "",
     "output_type": "error",
     "traceback": [
      "\u001b[1;31m---------------------------------------------------------------------------\u001b[0m",
      "\u001b[1;31mKeyboardInterrupt\u001b[0m                         Traceback (most recent call last)",
      "\u001b[1;32m~\\AppData\\Local\\Temp/ipykernel_28760/4183152023.py\u001b[0m in \u001b[0;36m<module>\u001b[1;34m\u001b[0m\n\u001b[1;32m----> 1\u001b[1;33m \u001b[0mtrainer\u001b[0m\u001b[1;33m.\u001b[0m\u001b[0mtrain\u001b[0m\u001b[1;33m(\u001b[0m\u001b[0mtasks\u001b[0m\u001b[1;33m)\u001b[0m\u001b[1;33m\u001b[0m\u001b[1;33m\u001b[0m\u001b[0m\n\u001b[0m",
      "\u001b[1;32md:\\GitHub\\PublicRepos\\Stocks\\qlib\\qlib\\model\\trainer.py\u001b[0m in \u001b[0;36mtrain\u001b[1;34m(self, tasks, train_func, experiment_name, before_status, after_status, **kwargs)\u001b[0m\n\u001b[0;32m    440\u001b[0m         \u001b[0mquery\u001b[0m \u001b[1;33m=\u001b[0m \u001b[1;33m{\u001b[0m\u001b[1;34m\"_id\"\u001b[0m\u001b[1;33m:\u001b[0m \u001b[1;33m{\u001b[0m\u001b[1;34m\"$in\"\u001b[0m\u001b[1;33m:\u001b[0m \u001b[0m_id_list\u001b[0m\u001b[1;33m}\u001b[0m\u001b[1;33m}\u001b[0m\u001b[1;33m\u001b[0m\u001b[1;33m\u001b[0m\u001b[0m\n\u001b[0;32m    441\u001b[0m         \u001b[1;32mif\u001b[0m \u001b[1;32mnot\u001b[0m \u001b[0mself\u001b[0m\u001b[1;33m.\u001b[0m\u001b[0mskip_run_task\u001b[0m\u001b[1;33m:\u001b[0m\u001b[1;33m\u001b[0m\u001b[1;33m\u001b[0m\u001b[0m\n\u001b[1;32m--> 442\u001b[1;33m             run_task(\n\u001b[0m\u001b[0;32m    443\u001b[0m                 \u001b[0mtrain_func\u001b[0m\u001b[1;33m,\u001b[0m\u001b[1;33m\u001b[0m\u001b[1;33m\u001b[0m\u001b[0m\n\u001b[0;32m    444\u001b[0m                 \u001b[0mtask_pool\u001b[0m\u001b[1;33m,\u001b[0m\u001b[1;33m\u001b[0m\u001b[1;33m\u001b[0m\u001b[0m\n",
      "\u001b[1;32md:\\GitHub\\PublicRepos\\Stocks\\qlib\\qlib\\workflow\\task\\manage.py\u001b[0m in \u001b[0;36mrun_task\u001b[1;34m(task_func, task_pool, query, force_release, before_status, after_status, **kwargs)\u001b[0m\n\u001b[0;32m    542\u001b[0m                     \u001b[0mres\u001b[0m \u001b[1;33m=\u001b[0m \u001b[0mexecutor\u001b[0m\u001b[1;33m.\u001b[0m\u001b[0msubmit\u001b[0m\u001b[1;33m(\u001b[0m\u001b[0mtask_func\u001b[0m\u001b[1;33m,\u001b[0m \u001b[0mparam\u001b[0m\u001b[1;33m,\u001b[0m \u001b[1;33m**\u001b[0m\u001b[0mkwargs\u001b[0m\u001b[1;33m)\u001b[0m\u001b[1;33m.\u001b[0m\u001b[0mresult\u001b[0m\u001b[1;33m(\u001b[0m\u001b[1;33m)\u001b[0m\u001b[1;33m\u001b[0m\u001b[1;33m\u001b[0m\u001b[0m\n\u001b[0;32m    543\u001b[0m             \u001b[1;32melse\u001b[0m\u001b[1;33m:\u001b[0m\u001b[1;33m\u001b[0m\u001b[1;33m\u001b[0m\u001b[0m\n\u001b[1;32m--> 544\u001b[1;33m                 \u001b[0mres\u001b[0m \u001b[1;33m=\u001b[0m \u001b[0mtask_func\u001b[0m\u001b[1;33m(\u001b[0m\u001b[0mparam\u001b[0m\u001b[1;33m,\u001b[0m \u001b[1;33m**\u001b[0m\u001b[0mkwargs\u001b[0m\u001b[1;33m)\u001b[0m\u001b[1;33m\u001b[0m\u001b[1;33m\u001b[0m\u001b[0m\n\u001b[0m\u001b[0;32m    545\u001b[0m             \u001b[0mtm\u001b[0m\u001b[1;33m.\u001b[0m\u001b[0mcommit_task_res\u001b[0m\u001b[1;33m(\u001b[0m\u001b[0mtask\u001b[0m\u001b[1;33m,\u001b[0m \u001b[0mres\u001b[0m\u001b[1;33m,\u001b[0m \u001b[0mstatus\u001b[0m\u001b[1;33m=\u001b[0m\u001b[0mafter_status\u001b[0m\u001b[1;33m)\u001b[0m\u001b[1;33m\u001b[0m\u001b[1;33m\u001b[0m\u001b[0m\n\u001b[0;32m    546\u001b[0m             \u001b[0mever_run\u001b[0m \u001b[1;33m=\u001b[0m \u001b[1;32mTrue\u001b[0m\u001b[1;33m\u001b[0m\u001b[1;33m\u001b[0m\u001b[0m\n",
      "\u001b[1;32md:\\GitHub\\PublicRepos\\Stocks\\qlib\\qlib\\model\\trainer.py\u001b[0m in \u001b[0;36mtask_train\u001b[1;34m(task_config, experiment_name, recorder_name)\u001b[0m\n\u001b[0;32m    164\u001b[0m     \u001b[1;32mwith\u001b[0m \u001b[0mR\u001b[0m\u001b[1;33m.\u001b[0m\u001b[0mstart\u001b[0m\u001b[1;33m(\u001b[0m\u001b[0mexperiment_name\u001b[0m\u001b[1;33m=\u001b[0m\u001b[0mexperiment_name\u001b[0m\u001b[1;33m,\u001b[0m \u001b[0mrecorder_name\u001b[0m\u001b[1;33m=\u001b[0m\u001b[0mrecorder_name\u001b[0m\u001b[1;33m)\u001b[0m\u001b[1;33m:\u001b[0m\u001b[1;33m\u001b[0m\u001b[1;33m\u001b[0m\u001b[0m\n\u001b[0;32m    165\u001b[0m         \u001b[0m_log_task_info\u001b[0m\u001b[1;33m(\u001b[0m\u001b[0mtask_config\u001b[0m\u001b[1;33m)\u001b[0m\u001b[1;33m\u001b[0m\u001b[1;33m\u001b[0m\u001b[0m\n\u001b[1;32m--> 166\u001b[1;33m         \u001b[0m_exe_task\u001b[0m\u001b[1;33m(\u001b[0m\u001b[0mtask_config\u001b[0m\u001b[1;33m)\u001b[0m\u001b[1;33m\u001b[0m\u001b[1;33m\u001b[0m\u001b[0m\n\u001b[0m\u001b[0;32m    167\u001b[0m         \u001b[1;32mreturn\u001b[0m \u001b[0mR\u001b[0m\u001b[1;33m.\u001b[0m\u001b[0mget_recorder\u001b[0m\u001b[1;33m(\u001b[0m\u001b[1;33m)\u001b[0m\u001b[1;33m\u001b[0m\u001b[1;33m\u001b[0m\u001b[0m\n\u001b[0;32m    168\u001b[0m \u001b[1;33m\u001b[0m\u001b[0m\n",
      "\u001b[1;32md:\\GitHub\\PublicRepos\\Stocks\\qlib\\qlib\\model\\trainer.py\u001b[0m in \u001b[0;36m_exe_task\u001b[1;34m(task_config)\u001b[0m\n\u001b[0;32m     45\u001b[0m     \u001b[1;31m# model training\u001b[0m\u001b[1;33m\u001b[0m\u001b[1;33m\u001b[0m\u001b[1;33m\u001b[0m\u001b[0m\n\u001b[0;32m     46\u001b[0m     \u001b[1;31m# auto_filter_kwargs(model.fit)(dataset, reweighter=reweighter)\u001b[0m\u001b[1;33m\u001b[0m\u001b[1;33m\u001b[0m\u001b[1;33m\u001b[0m\u001b[0m\n\u001b[1;32m---> 47\u001b[1;33m     \u001b[0mmodel\u001b[0m\u001b[1;33m.\u001b[0m\u001b[0mfit\u001b[0m\u001b[1;33m(\u001b[0m\u001b[0mdataset\u001b[0m\u001b[1;33m)\u001b[0m\u001b[1;33m\u001b[0m\u001b[1;33m\u001b[0m\u001b[0m\n\u001b[0m\u001b[0;32m     48\u001b[0m     \u001b[0mR\u001b[0m\u001b[1;33m.\u001b[0m\u001b[0msave_objects\u001b[0m\u001b[1;33m(\u001b[0m\u001b[1;33m**\u001b[0m\u001b[1;33m{\u001b[0m\u001b[1;34m\"params.pkl\"\u001b[0m\u001b[1;33m:\u001b[0m \u001b[0mmodel\u001b[0m\u001b[1;33m}\u001b[0m\u001b[1;33m)\u001b[0m\u001b[1;33m\u001b[0m\u001b[1;33m\u001b[0m\u001b[0m\n\u001b[0;32m     49\u001b[0m     \u001b[1;31m# this dataset is saved for online inference. So the concrete data should not be dumped\u001b[0m\u001b[1;33m\u001b[0m\u001b[1;33m\u001b[0m\u001b[1;33m\u001b[0m\u001b[0m\n",
      "\u001b[1;32md:\\GitHub\\PublicRepos\\Stocks\\qlib\\qlib\\contrib\\model\\xgboost.py\u001b[0m in \u001b[0;36mfit\u001b[1;34m(self, dataset, num_boost_round, early_stopping_rounds, verbose_eval, evals_result, **kwargs)\u001b[0m\n\u001b[0;32m     46\u001b[0m         \u001b[0mdtrain\u001b[0m \u001b[1;33m=\u001b[0m \u001b[0mxgb\u001b[0m\u001b[1;33m.\u001b[0m\u001b[0mDMatrix\u001b[0m\u001b[1;33m(\u001b[0m\u001b[0mx_train\u001b[0m\u001b[1;33m,\u001b[0m \u001b[0mlabel\u001b[0m\u001b[1;33m=\u001b[0m\u001b[0my_train_1d\u001b[0m\u001b[1;33m)\u001b[0m\u001b[1;33m\u001b[0m\u001b[1;33m\u001b[0m\u001b[0m\n\u001b[0;32m     47\u001b[0m         \u001b[0mdvalid\u001b[0m \u001b[1;33m=\u001b[0m \u001b[0mxgb\u001b[0m\u001b[1;33m.\u001b[0m\u001b[0mDMatrix\u001b[0m\u001b[1;33m(\u001b[0m\u001b[0mx_valid\u001b[0m\u001b[1;33m,\u001b[0m \u001b[0mlabel\u001b[0m\u001b[1;33m=\u001b[0m\u001b[0my_valid_1d\u001b[0m\u001b[1;33m)\u001b[0m\u001b[1;33m\u001b[0m\u001b[1;33m\u001b[0m\u001b[0m\n\u001b[1;32m---> 48\u001b[1;33m         self.model = xgb.train(\n\u001b[0m\u001b[0;32m     49\u001b[0m             \u001b[0mself\u001b[0m\u001b[1;33m.\u001b[0m\u001b[0m_params\u001b[0m\u001b[1;33m,\u001b[0m\u001b[1;33m\u001b[0m\u001b[1;33m\u001b[0m\u001b[0m\n\u001b[0;32m     50\u001b[0m             \u001b[0mdtrain\u001b[0m\u001b[1;33m=\u001b[0m\u001b[0mdtrain\u001b[0m\u001b[1;33m,\u001b[0m\u001b[1;33m\u001b[0m\u001b[1;33m\u001b[0m\u001b[0m\n",
      "\u001b[1;32m~\\.conda\\envs\\ml-finance\\lib\\site-packages\\xgboost\\training.py\u001b[0m in \u001b[0;36mtrain\u001b[1;34m(params, dtrain, num_boost_round, evals, obj, feval, maximize, early_stopping_rounds, evals_result, verbose_eval, xgb_model, callbacks)\u001b[0m\n\u001b[0;32m    186\u001b[0m     \u001b[0mBooster\u001b[0m \u001b[1;33m:\u001b[0m \u001b[0ma\u001b[0m \u001b[0mtrained\u001b[0m \u001b[0mbooster\u001b[0m \u001b[0mmodel\u001b[0m\u001b[1;33m\u001b[0m\u001b[1;33m\u001b[0m\u001b[0m\n\u001b[0;32m    187\u001b[0m     \"\"\"\n\u001b[1;32m--> 188\u001b[1;33m     bst = _train_internal(params, dtrain,\n\u001b[0m\u001b[0;32m    189\u001b[0m                           \u001b[0mnum_boost_round\u001b[0m\u001b[1;33m=\u001b[0m\u001b[0mnum_boost_round\u001b[0m\u001b[1;33m,\u001b[0m\u001b[1;33m\u001b[0m\u001b[1;33m\u001b[0m\u001b[0m\n\u001b[0;32m    190\u001b[0m                           \u001b[0mevals\u001b[0m\u001b[1;33m=\u001b[0m\u001b[0mevals\u001b[0m\u001b[1;33m,\u001b[0m\u001b[1;33m\u001b[0m\u001b[1;33m\u001b[0m\u001b[0m\n",
      "\u001b[1;32m~\\.conda\\envs\\ml-finance\\lib\\site-packages\\xgboost\\training.py\u001b[0m in \u001b[0;36m_train_internal\u001b[1;34m(params, dtrain, num_boost_round, evals, obj, feval, xgb_model, callbacks, evals_result, maximize, verbose_eval, early_stopping_rounds)\u001b[0m\n\u001b[0;32m     79\u001b[0m         \u001b[1;32mif\u001b[0m \u001b[0mcallbacks\u001b[0m\u001b[1;33m.\u001b[0m\u001b[0mbefore_iteration\u001b[0m\u001b[1;33m(\u001b[0m\u001b[0mbst\u001b[0m\u001b[1;33m,\u001b[0m \u001b[0mi\u001b[0m\u001b[1;33m,\u001b[0m \u001b[0mdtrain\u001b[0m\u001b[1;33m,\u001b[0m \u001b[0mevals\u001b[0m\u001b[1;33m)\u001b[0m\u001b[1;33m:\u001b[0m\u001b[1;33m\u001b[0m\u001b[1;33m\u001b[0m\u001b[0m\n\u001b[0;32m     80\u001b[0m             \u001b[1;32mbreak\u001b[0m\u001b[1;33m\u001b[0m\u001b[1;33m\u001b[0m\u001b[0m\n\u001b[1;32m---> 81\u001b[1;33m         \u001b[0mbst\u001b[0m\u001b[1;33m.\u001b[0m\u001b[0mupdate\u001b[0m\u001b[1;33m(\u001b[0m\u001b[0mdtrain\u001b[0m\u001b[1;33m,\u001b[0m \u001b[0mi\u001b[0m\u001b[1;33m,\u001b[0m \u001b[0mobj\u001b[0m\u001b[1;33m)\u001b[0m\u001b[1;33m\u001b[0m\u001b[1;33m\u001b[0m\u001b[0m\n\u001b[0m\u001b[0;32m     82\u001b[0m         \u001b[1;32mif\u001b[0m \u001b[0mcallbacks\u001b[0m\u001b[1;33m.\u001b[0m\u001b[0mafter_iteration\u001b[0m\u001b[1;33m(\u001b[0m\u001b[0mbst\u001b[0m\u001b[1;33m,\u001b[0m \u001b[0mi\u001b[0m\u001b[1;33m,\u001b[0m \u001b[0mdtrain\u001b[0m\u001b[1;33m,\u001b[0m \u001b[0mevals\u001b[0m\u001b[1;33m)\u001b[0m\u001b[1;33m:\u001b[0m\u001b[1;33m\u001b[0m\u001b[1;33m\u001b[0m\u001b[0m\n\u001b[0;32m     83\u001b[0m             \u001b[1;32mbreak\u001b[0m\u001b[1;33m\u001b[0m\u001b[1;33m\u001b[0m\u001b[0m\n",
      "\u001b[1;32m~\\.conda\\envs\\ml-finance\\lib\\site-packages\\xgboost\\core.py\u001b[0m in \u001b[0;36mupdate\u001b[1;34m(self, dtrain, iteration, fobj)\u001b[0m\n\u001b[0;32m   1678\u001b[0m \u001b[1;33m\u001b[0m\u001b[0m\n\u001b[0;32m   1679\u001b[0m         \u001b[1;32mif\u001b[0m \u001b[0mfobj\u001b[0m \u001b[1;32mis\u001b[0m \u001b[1;32mNone\u001b[0m\u001b[1;33m:\u001b[0m\u001b[1;33m\u001b[0m\u001b[1;33m\u001b[0m\u001b[0m\n\u001b[1;32m-> 1680\u001b[1;33m             _check_call(_LIB.XGBoosterUpdateOneIter(self.handle,\n\u001b[0m\u001b[0;32m   1681\u001b[0m                                                     \u001b[0mctypes\u001b[0m\u001b[1;33m.\u001b[0m\u001b[0mc_int\u001b[0m\u001b[1;33m(\u001b[0m\u001b[0miteration\u001b[0m\u001b[1;33m)\u001b[0m\u001b[1;33m,\u001b[0m\u001b[1;33m\u001b[0m\u001b[1;33m\u001b[0m\u001b[0m\n\u001b[0;32m   1682\u001b[0m                                                     dtrain.handle))\n",
      "\u001b[1;31mKeyboardInterrupt\u001b[0m: "
     ]
    }
   ],
   "source": [
    "trainer.train(tasks)"
   ]
  },
  {
   "cell_type": "code",
   "execution_count": null,
   "metadata": {},
   "outputs": [],
   "source": []
  }
 ],
 "metadata": {
  "interpreter": {
   "hash": "6c3df32ee310c56c08cd8644419e9d8029d5089b7efce38017eb6cabb6acf183"
  },
  "kernelspec": {
   "display_name": "Python 3.8.8 64-bit ('ml-finance': conda)",
   "language": "python",
   "name": "python3"
  },
  "language_info": {
   "codemirror_mode": {
    "name": "ipython",
    "version": 3
   },
   "file_extension": ".py",
   "mimetype": "text/x-python",
   "name": "python",
   "nbconvert_exporter": "python",
   "pygments_lexer": "ipython3",
   "version": "3.8.8"
  },
  "orig_nbformat": 4
 },
 "nbformat": 4,
 "nbformat_minor": 2
}
